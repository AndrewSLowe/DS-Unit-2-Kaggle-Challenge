{
  "nbformat": 4,
  "nbformat_minor": 0,
  "metadata": {
    "colab": {
      "name": "1.2.1A_kaggle_challenge_1.ipynb",
      "provenance": [],
      "collapsed_sections": [],
      "include_colab_link": true
    },
    "kernelspec": {
      "display_name": "Python 3",
      "language": "python",
      "name": "python3"
    },
    "language_info": {
      "codemirror_mode": {
        "name": "ipython",
        "version": 3
      },
      "file_extension": ".py",
      "mimetype": "text/x-python",
      "name": "python",
      "nbconvert_exporter": "python",
      "pygments_lexer": "ipython3",
      "version": "3.7.3"
    }
  },
  "cells": [
    {
      "cell_type": "markdown",
      "metadata": {
        "id": "view-in-github",
        "colab_type": "text"
      },
      "source": [
        "<a href=\"https://colab.research.google.com/github/AndrewSLowe/DS-Unit-2-Kaggle-Challenge/blob/master/module1/1_2_1A_kaggle_challenge_1.ipynb\" target=\"_parent\"><img src=\"https://colab.research.google.com/assets/colab-badge.svg\" alt=\"Open In Colab\"/></a>"
      ]
    },
    {
      "cell_type": "markdown",
      "metadata": {
        "colab_type": "text",
        "id": "7IXUfiQ2UKj6"
      },
      "source": [
        "Lambda School Data Science, Unit 2: Predictive Modeling\n",
        "\n",
        "# Kaggle Challenge, Module 1\n",
        "\n",
        "## Assignment\n",
        "- [ ] Do train/validate/test split with the Tanzania Waterpumps data.\n",
        "- [ ] Define a function to wrangle train, validate, and test sets in the same way. Clean outliers and engineer features. (For example, [what other columns have zeros and shouldn't?](https://github.com/Quartz/bad-data-guide#zeros-replace-missing-values) What other columns are duplicates, or nearly duplicates? Can you extract the year from date_recorded? Can you engineer new features, such as the number of years from waterpump construction to waterpump inspection?)\n",
        "- [ ] Select features. Use a scikit-learn pipeline to encode categoricals, impute missing values, and fit a decision tree classifier.\n",
        "- [ ] Get your validation accuracy score.\n",
        "- [ ] Get and plot your feature importances.\n",
        "- [ ] Submit your predictions to our Kaggle competition. (Go to our Kaggle InClass competition webpage. Use the blue **Submit Predictions** button to upload your CSV file. Or you can use the Kaggle API to submit your predictions.)\n",
        "- [ ] Commit your notebook to your fork of the GitHub repo.\n",
        "\n",
        "\n",
        "## Stretch Goals\n",
        "\n",
        "### Reading\n",
        "\n",
        "- A Visual Introduction to Machine Learning\n",
        "  - [Part 1: A Decision Tree](http://www.r2d3.us/visual-intro-to-machine-learning-part-1/)\n",
        "  - [Part 2: Bias and Variance](http://www.r2d3.us/visual-intro-to-machine-learning-part-2/)\n",
        "- [Decision Trees: Advantages & Disadvantages](https://christophm.github.io/interpretable-ml-book/tree.html#advantages-2)\n",
        "- [How a Russian mathematician constructed a decision tree — by hand — to solve a medical problem](http://fastml.com/how-a-russian-mathematician-constructed-a-decision-tree-by-hand-to-solve-a-medical-problem/)\n",
        "- [How decision trees work](https://brohrer.github.io/how_decision_trees_work.html)\n",
        "- [Let’s Write a Decision Tree Classifier from Scratch](https://www.youtube.com/watch?v=LDRbO9a6XPU) — _Don’t worry about understanding the code, just get introduced to the concepts. This 10 minute video has excellent diagrams and explanations._\n",
        "- [Random Forests for Complete Beginners: The definitive guide to Random Forests and Decision Trees](https://victorzhou.com/blog/intro-to-random-forests/)\n",
        "\n",
        "\n",
        "### Doing\n",
        "- [ ] Add your own stretch goal(s) !\n",
        "- [ ] Try other [scikit-learn imputers](https://scikit-learn.org/stable/modules/impute.html).\n",
        "- [ ] Make exploratory visualizations and share on Slack.\n",
        "\n",
        "\n",
        "#### Exploratory visualizations\n",
        "\n",
        "Visualize the relationships between feature(s) and target. I recommend you do this with your training set, after splitting your data. \n",
        "\n",
        "For this problem, you may want to create a new column to represent the target as a number, 0 or 1. For example:\n",
        "\n",
        "```python\n",
        "train['functional'] = (train['status_group']=='functional').astype(int)\n",
        "```\n",
        "\n",
        "\n",
        "\n",
        "You can try [Seaborn \"Categorical estimate\" plots](https://seaborn.pydata.org/tutorial/categorical.html) for features with reasonably few unique values. (With too many unique values, the plot is unreadable.)\n",
        "\n",
        "- Categorical features. (If there are too many unique values, you can replace less frequent values with \"OTHER.\")\n",
        "- Numeric features. (If there are too many unique values, you can [bin with pandas cut / qcut functions](https://pandas.pydata.org/pandas-docs/stable/getting_started/basics.html?highlight=qcut#discretization-and-quantiling).)\n",
        "\n",
        "You can try [Seaborn linear model plots](https://seaborn.pydata.org/tutorial/regression.html) with numeric features. For this classification problem, you may want to use the parameter `logistic=True`, but it can be slow.\n",
        "\n",
        "You do _not_ need to use Seaborn, but it's nice because it includes confidence intervals to visualize uncertainty.\n",
        "\n",
        "#### High-cardinality categoricals\n",
        "\n",
        "This code from a previous assignment demonstrates how to replace less frequent values with 'OTHER'\n",
        "\n",
        "```python\n",
        "# Reduce cardinality for NEIGHBORHOOD feature ...\n",
        "\n",
        "# Get a list of the top 10 neighborhoods\n",
        "top10 = train['NEIGHBORHOOD'].value_counts()[:10].index\n",
        "\n",
        "# At locations where the neighborhood is NOT in the top 10,\n",
        "# replace the neighborhood with 'OTHER'\n",
        "train.loc[~train['NEIGHBORHOOD'].isin(top10), 'NEIGHBORHOOD'] = 'OTHER'\n",
        "test.loc[~test['NEIGHBORHOOD'].isin(top10), 'NEIGHBORHOOD'] = 'OTHER'\n",
        "```\n"
      ]
    },
    {
      "cell_type": "code",
      "metadata": {
        "colab_type": "code",
        "id": "o9eSnDYhUGD7",
        "colab": {
          "base_uri": "https://localhost:8080/",
          "height": 224
        },
        "outputId": "b9db30b7-5b2f-4f1d-8520-4310a6d6b6bc"
      },
      "source": [
        "import sys\n",
        "\n",
        "# If you're on Colab:\n",
        "if 'google.colab' in sys.modules:\n",
        "    DATA_PATH = 'https://raw.githubusercontent.com/LambdaSchool/DS-Unit-2-Kaggle-Challenge/master/data/'\n",
        "    !pip install category_encoders==2.*\n",
        "\n",
        "# If you're working locally:\n",
        "else:\n",
        "    DATA_PATH = '../data/'"
      ],
      "execution_count": 1,
      "outputs": [
        {
          "output_type": "stream",
          "text": [
            "Requirement already satisfied: category_encoders==2.* in /usr/local/lib/python3.6/dist-packages (2.1.0)\n",
            "Requirement already satisfied: patsy>=0.4.1 in /usr/local/lib/python3.6/dist-packages (from category_encoders==2.*) (0.5.1)\n",
            "Requirement already satisfied: scipy>=0.19.0 in /usr/local/lib/python3.6/dist-packages (from category_encoders==2.*) (1.3.1)\n",
            "Requirement already satisfied: scikit-learn>=0.20.0 in /usr/local/lib/python3.6/dist-packages (from category_encoders==2.*) (0.21.3)\n",
            "Requirement already satisfied: statsmodels>=0.6.1 in /usr/local/lib/python3.6/dist-packages (from category_encoders==2.*) (0.10.1)\n",
            "Requirement already satisfied: numpy>=1.11.3 in /usr/local/lib/python3.6/dist-packages (from category_encoders==2.*) (1.16.5)\n",
            "Requirement already satisfied: pandas>=0.21.1 in /usr/local/lib/python3.6/dist-packages (from category_encoders==2.*) (0.24.2)\n",
            "Requirement already satisfied: six in /usr/local/lib/python3.6/dist-packages (from patsy>=0.4.1->category_encoders==2.*) (1.12.0)\n",
            "Requirement already satisfied: joblib>=0.11 in /usr/local/lib/python3.6/dist-packages (from scikit-learn>=0.20.0->category_encoders==2.*) (0.13.2)\n",
            "Requirement already satisfied: pytz>=2011k in /usr/local/lib/python3.6/dist-packages (from pandas>=0.21.1->category_encoders==2.*) (2018.9)\n",
            "Requirement already satisfied: python-dateutil>=2.5.0 in /usr/local/lib/python3.6/dist-packages (from pandas>=0.21.1->category_encoders==2.*) (2.5.3)\n"
          ],
          "name": "stdout"
        }
      ]
    },
    {
      "cell_type": "code",
      "metadata": {
        "colab_type": "code",
        "id": "QJBD4ruICm1m",
        "colab": {
          "base_uri": "https://localhost:8080/",
          "height": 34
        },
        "outputId": "aec52802-6d5f-4404-d779-41a9e6e639ba"
      },
      "source": [
        "import pandas as pd\n",
        "from sklearn.model_selection import train_test_split\n",
        "\n",
        "train = pd.merge(pd.read_csv(DATA_PATH+'waterpumps/train_features.csv'), \n",
        "                 pd.read_csv(DATA_PATH+'waterpumps/train_labels.csv'))\n",
        "test = pd.read_csv(DATA_PATH+'waterpumps/test_features.csv')\n",
        "sample_submission = pd.read_csv(DATA_PATH+'waterpumps/sample_submission.csv')\n",
        "\n",
        "train.shape, test.shape"
      ],
      "execution_count": 112,
      "outputs": [
        {
          "output_type": "execute_result",
          "data": {
            "text/plain": [
              "((59400, 41), (14358, 40))"
            ]
          },
          "metadata": {
            "tags": []
          },
          "execution_count": 112
        }
      ]
    },
    {
      "cell_type": "code",
      "metadata": {
        "colab_type": "code",
        "id": "2Amxyx3xphbb",
        "colab": {
          "base_uri": "https://localhost:8080/",
          "height": 34
        },
        "outputId": "1a979aa5-18a5-442a-8b54-cf6c16528f23"
      },
      "source": [
        "train, val = train_test_split(train,train_size=.80, test_size=.20,\n",
        "                             stratify=train['status_group'], random_state=42)\n",
        "train.shape, val.shape, test.shape"
      ],
      "execution_count": 113,
      "outputs": [
        {
          "output_type": "execute_result",
          "data": {
            "text/plain": [
              "((47520, 41), (11880, 41), (14358, 40))"
            ]
          },
          "metadata": {
            "tags": []
          },
          "execution_count": 113
        }
      ]
    },
    {
      "cell_type": "code",
      "metadata": {
        "id": "KFI3phXJ3dxr",
        "colab_type": "code",
        "colab": {}
      },
      "source": [
        "import numpy as np"
      ],
      "execution_count": 0,
      "outputs": []
    },
    {
      "cell_type": "code",
      "metadata": {
        "id": "4pq1ajQf18YP",
        "colab_type": "code",
        "colab": {}
      },
      "source": [
        "def wrangle(X):\n",
        "    \"\"\"Wrangle train, validate, and test sets in the same way\"\"\"\n",
        "    \n",
        "    # Prevent SettingWithCopyWarning\n",
        "    X = X.copy()\n",
        "    \n",
        "    # About 3% of the time, latitude has small values near zero,\n",
        "    # outside Tanzania, so we'll treat these values like zero.\n",
        "    X['latitude'] = X['latitude'].replace(-2e-08, 0)\n",
        "    \n",
        "    # When columns have zeros and shouldn't, they are like null values.\n",
        "    # So we will replace the zeros with nulls, and impute missing values later.\n",
        "    cols_with_zeros = ['longitude', 'latitude']\n",
        "    for col in cols_with_zeros:    \n",
        "        X[col] = X[col].replace(0, np.nan)\n",
        "            \n",
        "    # quantity & quantity_group are duplicates, so drop one\n",
        "    X = X.drop(columns=['quantity_group'])\n",
        "    \n",
        "    # return the wrangled dataframe\n",
        "    X['gps_height'] = X['gps_height'].mask(X['gps_height'] < 0, 0)\n",
        "      \n",
        "    cols_with_zeros = ['gps_height', 'longitude', 'latitude', 'amount_tsh', 'num_private', 'population', 'construction_year']\n",
        "    for col in cols_with_zeros:    \n",
        "        X[col] = X[col].replace(0, np.nan)\n",
        "    \n",
        "    return X\n"
      ],
      "execution_count": 0,
      "outputs": []
    },
    {
      "cell_type": "code",
      "metadata": {
        "id": "OeNwjFEqKdWY",
        "colab_type": "code",
        "colab": {}
      },
      "source": [
        "train = wrangle(train)\n",
        "val = wrangle(val)\n",
        "test = wrangle(test)"
      ],
      "execution_count": 0,
      "outputs": []
    },
    {
      "cell_type": "code",
      "metadata": {
        "id": "ChYGZ17dQove",
        "colab_type": "code",
        "colab": {
          "base_uri": "https://localhost:8080/",
          "height": 102
        },
        "outputId": "227af1e3-4cd4-470c-cf37-54d7bb290dee"
      },
      "source": [
        "train['status_group'].describe()"
      ],
      "execution_count": 117,
      "outputs": [
        {
          "output_type": "execute_result",
          "data": {
            "text/plain": [
              "count          47520\n",
              "unique             3\n",
              "top       functional\n",
              "freq           25807\n",
              "Name: status_group, dtype: object"
            ]
          },
          "metadata": {
            "tags": []
          },
          "execution_count": 117
        }
      ]
    },
    {
      "cell_type": "code",
      "metadata": {
        "id": "JGnN83TTQgQ6",
        "colab_type": "code",
        "colab": {
          "base_uri": "https://localhost:8080/",
          "height": 227
        },
        "outputId": "6b135b39-008f-4f09-bff6-0e6029567639"
      },
      "source": [
        "train.describe(exclude='number')"
      ],
      "execution_count": 118,
      "outputs": [
        {
          "output_type": "execute_result",
          "data": {
            "text/html": [
              "<div>\n",
              "<style scoped>\n",
              "    .dataframe tbody tr th:only-of-type {\n",
              "        vertical-align: middle;\n",
              "    }\n",
              "\n",
              "    .dataframe tbody tr th {\n",
              "        vertical-align: top;\n",
              "    }\n",
              "\n",
              "    .dataframe thead th {\n",
              "        text-align: right;\n",
              "    }\n",
              "</style>\n",
              "<table border=\"1\" class=\"dataframe\">\n",
              "  <thead>\n",
              "    <tr style=\"text-align: right;\">\n",
              "      <th></th>\n",
              "      <th>date_recorded</th>\n",
              "      <th>funder</th>\n",
              "      <th>installer</th>\n",
              "      <th>wpt_name</th>\n",
              "      <th>basin</th>\n",
              "      <th>subvillage</th>\n",
              "      <th>region</th>\n",
              "      <th>lga</th>\n",
              "      <th>ward</th>\n",
              "      <th>public_meeting</th>\n",
              "      <th>recorded_by</th>\n",
              "      <th>scheme_management</th>\n",
              "      <th>scheme_name</th>\n",
              "      <th>permit</th>\n",
              "      <th>extraction_type</th>\n",
              "      <th>extraction_type_group</th>\n",
              "      <th>extraction_type_class</th>\n",
              "      <th>management</th>\n",
              "      <th>management_group</th>\n",
              "      <th>payment</th>\n",
              "      <th>payment_type</th>\n",
              "      <th>water_quality</th>\n",
              "      <th>quality_group</th>\n",
              "      <th>quantity</th>\n",
              "      <th>source</th>\n",
              "      <th>source_type</th>\n",
              "      <th>source_class</th>\n",
              "      <th>waterpoint_type</th>\n",
              "      <th>waterpoint_type_group</th>\n",
              "      <th>status_group</th>\n",
              "    </tr>\n",
              "  </thead>\n",
              "  <tbody>\n",
              "    <tr>\n",
              "      <th>count</th>\n",
              "      <td>47520</td>\n",
              "      <td>44616</td>\n",
              "      <td>44603</td>\n",
              "      <td>47520</td>\n",
              "      <td>47520</td>\n",
              "      <td>47234</td>\n",
              "      <td>47520</td>\n",
              "      <td>47520</td>\n",
              "      <td>47520</td>\n",
              "      <td>44876</td>\n",
              "      <td>47520</td>\n",
              "      <td>44392</td>\n",
              "      <td>24988</td>\n",
              "      <td>45077</td>\n",
              "      <td>47520</td>\n",
              "      <td>47520</td>\n",
              "      <td>47520</td>\n",
              "      <td>47520</td>\n",
              "      <td>47520</td>\n",
              "      <td>47520</td>\n",
              "      <td>47520</td>\n",
              "      <td>47520</td>\n",
              "      <td>47520</td>\n",
              "      <td>47520</td>\n",
              "      <td>47520</td>\n",
              "      <td>47520</td>\n",
              "      <td>47520</td>\n",
              "      <td>47520</td>\n",
              "      <td>47520</td>\n",
              "      <td>47520</td>\n",
              "    </tr>\n",
              "    <tr>\n",
              "      <th>unique</th>\n",
              "      <td>349</td>\n",
              "      <td>1716</td>\n",
              "      <td>1929</td>\n",
              "      <td>30661</td>\n",
              "      <td>9</td>\n",
              "      <td>17231</td>\n",
              "      <td>21</td>\n",
              "      <td>124</td>\n",
              "      <td>2082</td>\n",
              "      <td>2</td>\n",
              "      <td>1</td>\n",
              "      <td>12</td>\n",
              "      <td>2563</td>\n",
              "      <td>2</td>\n",
              "      <td>18</td>\n",
              "      <td>13</td>\n",
              "      <td>7</td>\n",
              "      <td>12</td>\n",
              "      <td>5</td>\n",
              "      <td>7</td>\n",
              "      <td>7</td>\n",
              "      <td>8</td>\n",
              "      <td>6</td>\n",
              "      <td>5</td>\n",
              "      <td>10</td>\n",
              "      <td>7</td>\n",
              "      <td>3</td>\n",
              "      <td>7</td>\n",
              "      <td>6</td>\n",
              "      <td>3</td>\n",
              "    </tr>\n",
              "    <tr>\n",
              "      <th>top</th>\n",
              "      <td>2011-03-17</td>\n",
              "      <td>Government Of Tanzania</td>\n",
              "      <td>DWE</td>\n",
              "      <td>none</td>\n",
              "      <td>Lake Victoria</td>\n",
              "      <td>Shuleni</td>\n",
              "      <td>Iringa</td>\n",
              "      <td>Njombe</td>\n",
              "      <td>Igosi</td>\n",
              "      <td>True</td>\n",
              "      <td>GeoData Consultants Ltd</td>\n",
              "      <td>VWC</td>\n",
              "      <td>K</td>\n",
              "      <td>True</td>\n",
              "      <td>gravity</td>\n",
              "      <td>gravity</td>\n",
              "      <td>gravity</td>\n",
              "      <td>vwc</td>\n",
              "      <td>user-group</td>\n",
              "      <td>never pay</td>\n",
              "      <td>never pay</td>\n",
              "      <td>soft</td>\n",
              "      <td>good</td>\n",
              "      <td>enough</td>\n",
              "      <td>spring</td>\n",
              "      <td>spring</td>\n",
              "      <td>groundwater</td>\n",
              "      <td>communal standpipe</td>\n",
              "      <td>communal standpipe</td>\n",
              "      <td>functional</td>\n",
              "    </tr>\n",
              "    <tr>\n",
              "      <th>freq</th>\n",
              "      <td>474</td>\n",
              "      <td>7321</td>\n",
              "      <td>13978</td>\n",
              "      <td>2879</td>\n",
              "      <td>8137</td>\n",
              "      <td>420</td>\n",
              "      <td>4250</td>\n",
              "      <td>2003</td>\n",
              "      <td>257</td>\n",
              "      <td>40838</td>\n",
              "      <td>47520</td>\n",
              "      <td>29470</td>\n",
              "      <td>548</td>\n",
              "      <td>31071</td>\n",
              "      <td>21448</td>\n",
              "      <td>21448</td>\n",
              "      <td>21448</td>\n",
              "      <td>32449</td>\n",
              "      <td>42027</td>\n",
              "      <td>20287</td>\n",
              "      <td>20287</td>\n",
              "      <td>40598</td>\n",
              "      <td>40598</td>\n",
              "      <td>26567</td>\n",
              "      <td>13620</td>\n",
              "      <td>13620</td>\n",
              "      <td>36638</td>\n",
              "      <td>22778</td>\n",
              "      <td>27642</td>\n",
              "      <td>25807</td>\n",
              "    </tr>\n",
              "  </tbody>\n",
              "</table>\n",
              "</div>"
            ],
            "text/plain": [
              "       date_recorded                  funder  ... waterpoint_type_group status_group\n",
              "count          47520                   44616  ...                 47520        47520\n",
              "unique           349                    1716  ...                     6            3\n",
              "top       2011-03-17  Government Of Tanzania  ...    communal standpipe   functional\n",
              "freq             474                    7321  ...                 27642        25807\n",
              "\n",
              "[4 rows x 30 columns]"
            ]
          },
          "metadata": {
            "tags": []
          },
          "execution_count": 118
        }
      ]
    },
    {
      "cell_type": "code",
      "metadata": {
        "id": "tzXzJ4Yz3c14",
        "colab_type": "code",
        "colab": {
          "base_uri": "https://localhost:8080/",
          "height": 54
        },
        "outputId": "8d7151cb-7c67-4d42-b506-f8d26896e56e"
      },
      "source": [
        "# The status_group column is the target\n",
        "target = 'status_group'\n",
        "\n",
        "# Get a dataframe with all train columns except the target & id\n",
        "\n",
        "train_features = train.drop(columns=[target, 'id'])\n",
        "#Dropped the duplicate columns\n",
        "train_features = train_features.drop(columns=['extraction_type_group', \n",
        "                                                 'extraction_type_class', 'management_group', 'source_class', 'waterpoint_type_group'])\n",
        "\n",
        "# Get a list of the numeric features\n",
        "numeric_features = train_features.select_dtypes(include='number').columns.tolist()\n",
        "\n",
        "# Get a series with the cardinality of the nonnumeric features\n",
        "cardinality = train_features.select_dtypes(exclude='number').nunique()\n",
        "\n",
        "# Get a list of all categorical features with cardinality <= 50\n",
        "categorical_features = cardinality[cardinality <= 50].index.tolist()\n",
        "\n",
        "# Combine the lists \n",
        "features = numeric_features + categorical_features\n",
        "print(features)"
      ],
      "execution_count": 119,
      "outputs": [
        {
          "output_type": "stream",
          "text": [
            "['amount_tsh', 'gps_height', 'longitude', 'latitude', 'num_private', 'region_code', 'district_code', 'population', 'construction_year', 'basin', 'region', 'public_meeting', 'recorded_by', 'scheme_management', 'permit', 'extraction_type', 'management', 'payment', 'payment_type', 'water_quality', 'quality_group', 'quantity', 'source', 'source_type', 'waterpoint_type']\n"
          ],
          "name": "stdout"
        }
      ]
    },
    {
      "cell_type": "code",
      "metadata": {
        "id": "rChr_zMR3nRR",
        "colab_type": "code",
        "colab": {}
      },
      "source": [
        "X_train = train[features]\n",
        "y_train = train[target]\n",
        "X_val = val[features]\n",
        "y_val = val[target]\n",
        "X_test = test[features]"
      ],
      "execution_count": 0,
      "outputs": []
    },
    {
      "cell_type": "code",
      "metadata": {
        "id": "9FHRyvDYGUdZ",
        "colab_type": "code",
        "colab": {
          "base_uri": "https://localhost:8080/",
          "height": 34
        },
        "outputId": "0a609602-4cf1-4387-9014-2c2845ffb5ba"
      },
      "source": [
        "import category_encoders as ce\n",
        "from sklearn.impute import SimpleImputer\n",
        "from sklearn.linear_model import LogisticRegression\n",
        "from sklearn.pipeline import make_pipeline\n",
        "from sklearn.preprocessing import StandardScaler\n",
        "\n",
        "pipeline = make_pipeline(\n",
        "    ce.OneHotEncoder(use_cat_names=True), \n",
        "    SimpleImputer(strategy='mean'), \n",
        "    StandardScaler(), \n",
        "    LogisticRegression(multi_class='auto', solver='lbfgs', n_jobs=-1)      #n_jobs is the number of cpu cores used when parallelizing (-1 is all cores)\n",
        ")\n",
        "\n",
        "#dir(pipeline)      #This tells us about the methods and parameters for pipeline.\n",
        "\n",
        "# Fit on train\n",
        "pipeline.fit(X_train, y_train)\n",
        "\n",
        "# Score on val\n",
        "print('Validation Accuracy', pipeline.score(X_val, y_val))     #Calling the transformed version of onehotenocder, simpleimputer standardscaler and logreg in the same way as on train sets.\n",
        "\n",
        "# Predict on test\n",
        "y_pred = pipeline.predict(X_test)\n"
      ],
      "execution_count": 122,
      "outputs": [
        {
          "output_type": "stream",
          "text": [
            "Validation Accuracy 0.7366161616161616\n"
          ],
          "name": "stdout"
        }
      ]
    },
    {
      "cell_type": "code",
      "metadata": {
        "id": "vFNXWCBOSn9t",
        "colab_type": "code",
        "colab": {
          "base_uri": "https://localhost:8080/",
          "height": 51
        },
        "outputId": "c6a77605-0e22-4e77-c68a-b50cfe26ff47"
      },
      "source": [
        "from sklearn.tree import DecisionTreeClassifier\n",
        "\n",
        "#Only two changes from previous code: change logreg to DecisionTreeClassifier and took out imputer.\n",
        "\n",
        "\n",
        "pipeline = make_pipeline(\n",
        "    ce.OneHotEncoder(use_cat_names=True), \n",
        "    SimpleImputer(strategy='mean'), \n",
        "    DecisionTreeClassifier(random_state=42)      #n_jobs is the number of cpu cores used when parallelizing (-1 is all cores)\n",
        ")\n",
        "\n",
        "#dir(pipeline)      #This tells us about the methods and parameters for pipeline.\n",
        "\n",
        "# Fit on train\n",
        "pipeline.fit(X_train, y_train)\n",
        "\n",
        "# Score on val\n",
        "print('Train Accuracy:', pipeline.score(X_train, y_train))\n",
        "print('Validation Accuracy', pipeline.score(X_val, y_val))     #Calling the transformed version of onehotenocder, simpleimputer standardscaler and logreg in the same way as on train sets.\n",
        "\n",
        "# Predict on test\n",
        "y_pred = pipeline.predict(X_test)"
      ],
      "execution_count": 123,
      "outputs": [
        {
          "output_type": "stream",
          "text": [
            "Train Accuracy: 0.9954755892255892\n",
            "Validation Accuracy 0.7608585858585859\n"
          ],
          "name": "stdout"
        }
      ]
    },
    {
      "cell_type": "code",
      "metadata": {
        "id": "KAHKPexrSs1P",
        "colab_type": "code",
        "colab": {
          "base_uri": "https://localhost:8080/",
          "height": 654
        },
        "outputId": "a4198808-0959-44e9-e679-5a6013315c9c"
      },
      "source": [
        "# Plot tree\n",
        "# https://scikit-learn.org/stable/modules/generated/sklearn.tree.export_graphviz.html\n",
        "import graphviz\n",
        "from sklearn.tree import export_graphviz\n",
        "\n",
        "model = pipeline.named_steps['decisiontreeclassifier']\n",
        "encoder = pipeline.named_steps['onehotencoder']\n",
        "encoded_columns = encoder.transform(X_val).columns\n",
        "\n",
        "dot_data = export_graphviz(model, \n",
        "                           out_file=None, \n",
        "                           max_depth=3, \n",
        "                           feature_names=encoded_columns,\n",
        "                           class_names=model.classes_, \n",
        "                           impurity=False, \n",
        "                           filled=True, \n",
        "                           proportion=True, \n",
        "                           rounded=True)   \n",
        "display(graphviz.Source(dot_data))\n",
        "\n",
        "\n",
        "\n",
        "#SInce the first level is about quantity drive, that's the \"most predictive\" feature in this model."
      ],
      "execution_count": 124,
      "outputs": [
        {
          "output_type": "display_data",
          "data": {
            "text/plain": [
              "<graphviz.files.Source at 0x7f6e3b2515c0>"
            ],
            "image/svg+xml": "<?xml version=\"1.0\" encoding=\"UTF-8\" standalone=\"no\"?>\n<!DOCTYPE svg PUBLIC \"-//W3C//DTD SVG 1.1//EN\"\n \"http://www.w3.org/Graphics/SVG/1.1/DTD/svg11.dtd\">\n<!-- Generated by graphviz version 2.40.1 (20161225.0304)\n -->\n<!-- Title: Tree Pages: 1 -->\n<svg width=\"1832pt\" height=\"460pt\"\n viewBox=\"0.00 0.00 1832.00 460.00\" xmlns=\"http://www.w3.org/2000/svg\" xmlns:xlink=\"http://www.w3.org/1999/xlink\">\n<g id=\"graph0\" class=\"graph\" transform=\"scale(1 1) rotate(0) translate(4 456)\">\n<title>Tree</title>\n<polygon fill=\"#ffffff\" stroke=\"transparent\" points=\"-4,4 -4,-456 1828,-456 1828,4 -4,4\"/>\n<!-- 0 -->\n<g id=\"node1\" class=\"node\">\n<title>0</title>\n<path fill=\"#f8decc\" stroke=\"#000000\" d=\"M963,-452C963,-452 787,-452 787,-452 781,-452 775,-446 775,-440 775,-440 775,-396 775,-396 775,-390 781,-384 787,-384 787,-384 963,-384 963,-384 969,-384 975,-390 975,-396 975,-396 975,-440 975,-440 975,-446 969,-452 963,-452\"/>\n<text text-anchor=\"middle\" x=\"875\" y=\"-436.8\" font-family=\"Helvetica,sans-Serif\" font-size=\"14.00\" fill=\"#000000\">quantity_dry &lt;= 0.5</text>\n<text text-anchor=\"middle\" x=\"875\" y=\"-421.8\" font-family=\"Helvetica,sans-Serif\" font-size=\"14.00\" fill=\"#000000\">samples = 100.0%</text>\n<text text-anchor=\"middle\" x=\"875\" y=\"-406.8\" font-family=\"Helvetica,sans-Serif\" font-size=\"14.00\" fill=\"#000000\">value = [0.543, 0.073, 0.384]</text>\n<text text-anchor=\"middle\" x=\"875\" y=\"-391.8\" font-family=\"Helvetica,sans-Serif\" font-size=\"14.00\" fill=\"#000000\">class = functional</text>\n</g>\n<!-- 1 -->\n<g id=\"node2\" class=\"node\">\n<title>1</title>\n<path fill=\"#f4caac\" stroke=\"#000000\" d=\"M735.5,-348C735.5,-348 554.5,-348 554.5,-348 548.5,-348 542.5,-342 542.5,-336 542.5,-336 542.5,-292 542.5,-292 542.5,-286 548.5,-280 554.5,-280 554.5,-280 735.5,-280 735.5,-280 741.5,-280 747.5,-286 747.5,-292 747.5,-292 747.5,-336 747.5,-336 747.5,-342 741.5,-348 735.5,-348\"/>\n<text text-anchor=\"middle\" x=\"645\" y=\"-332.8\" font-family=\"Helvetica,sans-Serif\" font-size=\"14.00\" fill=\"#000000\">waterpoint_type_other &lt;= 0.5</text>\n<text text-anchor=\"middle\" x=\"645\" y=\"-317.8\" font-family=\"Helvetica,sans-Serif\" font-size=\"14.00\" fill=\"#000000\">samples = 89.6%</text>\n<text text-anchor=\"middle\" x=\"645\" y=\"-302.8\" font-family=\"Helvetica,sans-Serif\" font-size=\"14.00\" fill=\"#000000\">value = [0.603, 0.08, 0.317]</text>\n<text text-anchor=\"middle\" x=\"645\" y=\"-287.8\" font-family=\"Helvetica,sans-Serif\" font-size=\"14.00\" fill=\"#000000\">class = functional</text>\n</g>\n<!-- 0&#45;&gt;1 -->\n<g id=\"edge1\" class=\"edge\">\n<title>0&#45;&gt;1</title>\n<path fill=\"none\" stroke=\"#000000\" d=\"M799.6894,-383.9465C777.351,-373.8457 752.7352,-362.7151 729.8364,-352.3608\"/>\n<polygon fill=\"#000000\" stroke=\"#000000\" points=\"731.0337,-349.061 720.4798,-348.13 728.1495,-355.4393 731.0337,-349.061\"/>\n<text text-anchor=\"middle\" x=\"729.3039\" y=\"-367.8209\" font-family=\"Helvetica,sans-Serif\" font-size=\"14.00\" fill=\"#000000\">True</text>\n</g>\n<!-- 18294 -->\n<g id=\"node17\" class=\"node\">\n<title>18294</title>\n<path fill=\"#8540e6\" stroke=\"#000000\" d=\"M1194,-348C1194,-348 1018,-348 1018,-348 1012,-348 1006,-342 1006,-336 1006,-336 1006,-292 1006,-292 1006,-286 1012,-280 1018,-280 1018,-280 1194,-280 1194,-280 1200,-280 1206,-286 1206,-292 1206,-292 1206,-336 1206,-336 1206,-342 1200,-348 1194,-348\"/>\n<text text-anchor=\"middle\" x=\"1106\" y=\"-332.8\" font-family=\"Helvetica,sans-Serif\" font-size=\"14.00\" fill=\"#000000\">region_Mwanza &lt;= 0.5</text>\n<text text-anchor=\"middle\" x=\"1106\" y=\"-317.8\" font-family=\"Helvetica,sans-Serif\" font-size=\"14.00\" fill=\"#000000\">samples = 10.4%</text>\n<text text-anchor=\"middle\" x=\"1106\" y=\"-302.8\" font-family=\"Helvetica,sans-Serif\" font-size=\"14.00\" fill=\"#000000\">value = [0.026, 0.006, 0.968]</text>\n<text text-anchor=\"middle\" x=\"1106\" y=\"-287.8\" font-family=\"Helvetica,sans-Serif\" font-size=\"14.00\" fill=\"#000000\">class = non functional</text>\n</g>\n<!-- 0&#45;&gt;18294 -->\n<g id=\"edge16\" class=\"edge\">\n<title>0&#45;&gt;18294</title>\n<path fill=\"none\" stroke=\"#000000\" d=\"M950.638,-383.9465C973.0736,-373.8457 997.7963,-362.7151 1020.7947,-352.3608\"/>\n<polygon fill=\"#000000\" stroke=\"#000000\" points=\"1022.5104,-355.4268 1030.192,-348.13 1019.6367,-349.0439 1022.5104,-355.4268\"/>\n<text text-anchor=\"middle\" x=\"1021.3299\" y=\"-367.8065\" font-family=\"Helvetica,sans-Serif\" font-size=\"14.00\" fill=\"#000000\">False</text>\n</g>\n<!-- 2 -->\n<g id=\"node3\" class=\"node\">\n<title>2</title>\n<path fill=\"#f1bd98\" stroke=\"#000000\" d=\"M406.5,-244C406.5,-244 229.5,-244 229.5,-244 223.5,-244 217.5,-238 217.5,-232 217.5,-232 217.5,-188 217.5,-188 217.5,-182 223.5,-176 229.5,-176 229.5,-176 406.5,-176 406.5,-176 412.5,-176 418.5,-182 418.5,-188 418.5,-188 418.5,-232 418.5,-232 418.5,-238 412.5,-244 406.5,-244\"/>\n<text text-anchor=\"middle\" x=\"318\" y=\"-228.8\" font-family=\"Helvetica,sans-Serif\" font-size=\"14.00\" fill=\"#000000\">construction_year &lt;= 1985.5</text>\n<text text-anchor=\"middle\" x=\"318\" y=\"-213.8\" font-family=\"Helvetica,sans-Serif\" font-size=\"14.00\" fill=\"#000000\">samples = 81.1%</text>\n<text text-anchor=\"middle\" x=\"318\" y=\"-198.8\" font-family=\"Helvetica,sans-Serif\" font-size=\"14.00\" fill=\"#000000\">value = [0.649, 0.083, 0.268]</text>\n<text text-anchor=\"middle\" x=\"318\" y=\"-183.8\" font-family=\"Helvetica,sans-Serif\" font-size=\"14.00\" fill=\"#000000\">class = functional</text>\n</g>\n<!-- 1&#45;&gt;2 -->\n<g id=\"edge2\" class=\"edge\">\n<title>1&#45;&gt;2</title>\n<path fill=\"none\" stroke=\"#000000\" d=\"M542.4323,-281.3791C506.1537,-269.8409 465.2044,-256.8173 428.3103,-245.0834\"/>\n<polygon fill=\"#000000\" stroke=\"#000000\" points=\"429.1133,-241.6661 418.5229,-241.9706 426.9917,-248.3369 429.1133,-241.6661\"/>\n</g>\n<!-- 17113 -->\n<g id=\"node10\" class=\"node\">\n<title>17113</title>\n<path fill=\"#a26dec\" stroke=\"#000000\" d=\"M733.5,-244C733.5,-244 556.5,-244 556.5,-244 550.5,-244 544.5,-238 544.5,-232 544.5,-232 544.5,-188 544.5,-188 544.5,-182 550.5,-176 556.5,-176 556.5,-176 733.5,-176 733.5,-176 739.5,-176 745.5,-182 745.5,-188 745.5,-188 745.5,-232 745.5,-232 745.5,-238 739.5,-244 733.5,-244\"/>\n<text text-anchor=\"middle\" x=\"645\" y=\"-228.8\" font-family=\"Helvetica,sans-Serif\" font-size=\"14.00\" fill=\"#000000\">extraction_type_other &lt;= 0.5</text>\n<text text-anchor=\"middle\" x=\"645\" y=\"-213.8\" font-family=\"Helvetica,sans-Serif\" font-size=\"14.00\" fill=\"#000000\">samples = 8.5%</text>\n<text text-anchor=\"middle\" x=\"645\" y=\"-198.8\" font-family=\"Helvetica,sans-Serif\" font-size=\"14.00\" fill=\"#000000\">value = [0.162, 0.057, 0.781]</text>\n<text text-anchor=\"middle\" x=\"645\" y=\"-183.8\" font-family=\"Helvetica,sans-Serif\" font-size=\"14.00\" fill=\"#000000\">class = non functional</text>\n</g>\n<!-- 1&#45;&gt;17113 -->\n<g id=\"edge9\" class=\"edge\">\n<title>1&#45;&gt;17113</title>\n<path fill=\"none\" stroke=\"#000000\" d=\"M645,-279.9465C645,-271.776 645,-262.9318 645,-254.3697\"/>\n<polygon fill=\"#000000\" stroke=\"#000000\" points=\"648.5001,-254.13 645,-244.13 641.5001,-254.13 648.5001,-254.13\"/>\n</g>\n<!-- 3 -->\n<g id=\"node4\" class=\"node\">\n<title>3</title>\n<path fill=\"#fffdfb\" stroke=\"#000000\" d=\"M188,-140C188,-140 12,-140 12,-140 6,-140 0,-134 0,-128 0,-128 0,-84 0,-84 0,-78 6,-72 12,-72 12,-72 188,-72 188,-72 194,-72 200,-78 200,-84 200,-84 200,-128 200,-128 200,-134 194,-140 188,-140\"/>\n<text text-anchor=\"middle\" x=\"100\" y=\"-124.8\" font-family=\"Helvetica,sans-Serif\" font-size=\"14.00\" fill=\"#000000\">region_Iringa &lt;= 0.5</text>\n<text text-anchor=\"middle\" x=\"100\" y=\"-109.8\" font-family=\"Helvetica,sans-Serif\" font-size=\"14.00\" fill=\"#000000\">samples = 10.8%</text>\n<text text-anchor=\"middle\" x=\"100\" y=\"-94.8\" font-family=\"Helvetica,sans-Serif\" font-size=\"14.00\" fill=\"#000000\">value = [0.458, 0.094, 0.448]</text>\n<text text-anchor=\"middle\" x=\"100\" y=\"-79.8\" font-family=\"Helvetica,sans-Serif\" font-size=\"14.00\" fill=\"#000000\">class = functional</text>\n</g>\n<!-- 2&#45;&gt;3 -->\n<g id=\"edge3\" class=\"edge\">\n<title>2&#45;&gt;3</title>\n<path fill=\"none\" stroke=\"#000000\" d=\"M246.6186,-175.9465C225.5398,-165.8906 202.3216,-154.814 180.6997,-144.4989\"/>\n<polygon fill=\"#000000\" stroke=\"#000000\" points=\"182.0743,-141.2769 171.5417,-140.13 179.0602,-147.5948 182.0743,-141.2769\"/>\n</g>\n<!-- 2332 -->\n<g id=\"node7\" class=\"node\">\n<title>2332</title>\n<path fill=\"#f0b68d\" stroke=\"#000000\" d=\"M406,-140C406,-140 230,-140 230,-140 224,-140 218,-134 218,-128 218,-128 218,-84 218,-84 218,-78 224,-72 230,-72 230,-72 406,-72 406,-72 412,-72 418,-78 418,-84 418,-84 418,-128 418,-128 418,-134 412,-140 406,-140\"/>\n<text text-anchor=\"middle\" x=\"318\" y=\"-124.8\" font-family=\"Helvetica,sans-Serif\" font-size=\"14.00\" fill=\"#000000\">region_Iringa &lt;= 0.5</text>\n<text text-anchor=\"middle\" x=\"318\" y=\"-109.8\" font-family=\"Helvetica,sans-Serif\" font-size=\"14.00\" fill=\"#000000\">samples = 70.4%</text>\n<text text-anchor=\"middle\" x=\"318\" y=\"-94.8\" font-family=\"Helvetica,sans-Serif\" font-size=\"14.00\" fill=\"#000000\">value = [0.678, 0.081, 0.241]</text>\n<text text-anchor=\"middle\" x=\"318\" y=\"-79.8\" font-family=\"Helvetica,sans-Serif\" font-size=\"14.00\" fill=\"#000000\">class = functional</text>\n</g>\n<!-- 2&#45;&gt;2332 -->\n<g id=\"edge6\" class=\"edge\">\n<title>2&#45;&gt;2332</title>\n<path fill=\"none\" stroke=\"#000000\" d=\"M318,-175.9465C318,-167.776 318,-158.9318 318,-150.3697\"/>\n<polygon fill=\"#000000\" stroke=\"#000000\" points=\"321.5001,-150.13 318,-140.13 314.5001,-150.13 321.5001,-150.13\"/>\n</g>\n<!-- 4 -->\n<g id=\"node5\" class=\"node\">\n<title>4</title>\n<path fill=\"#c0c0c0\" stroke=\"#000000\" d=\"M79,-36C79,-36 49,-36 49,-36 43,-36 37,-30 37,-24 37,-24 37,-12 37,-12 37,-6 43,0 49,0 49,0 79,0 79,0 85,0 91,-6 91,-12 91,-12 91,-24 91,-24 91,-30 85,-36 79,-36\"/>\n<text text-anchor=\"middle\" x=\"64\" y=\"-14.3\" font-family=\"Helvetica,sans-Serif\" font-size=\"14.00\" fill=\"#000000\">(...)</text>\n</g>\n<!-- 3&#45;&gt;4 -->\n<g id=\"edge4\" class=\"edge\">\n<title>3&#45;&gt;4</title>\n<path fill=\"none\" stroke=\"#000000\" d=\"M86.0815,-71.9769C82.4977,-63.2167 78.6862,-53.8995 75.2564,-45.5157\"/>\n<polygon fill=\"#000000\" stroke=\"#000000\" points=\"78.468,-44.1222 71.4422,-36.192 71.9891,-46.7727 78.468,-44.1222\"/>\n</g>\n<!-- 2085 -->\n<g id=\"node6\" class=\"node\">\n<title>2085</title>\n<path fill=\"#c0c0c0\" stroke=\"#000000\" d=\"M151,-36C151,-36 121,-36 121,-36 115,-36 109,-30 109,-24 109,-24 109,-12 109,-12 109,-6 115,0 121,0 121,0 151,0 151,0 157,0 163,-6 163,-12 163,-12 163,-24 163,-24 163,-30 157,-36 151,-36\"/>\n<text text-anchor=\"middle\" x=\"136\" y=\"-14.3\" font-family=\"Helvetica,sans-Serif\" font-size=\"14.00\" fill=\"#000000\">(...)</text>\n</g>\n<!-- 3&#45;&gt;2085 -->\n<g id=\"edge5\" class=\"edge\">\n<title>3&#45;&gt;2085</title>\n<path fill=\"none\" stroke=\"#000000\" d=\"M113.9185,-71.9769C117.5023,-63.2167 121.3138,-53.8995 124.7436,-45.5157\"/>\n<polygon fill=\"#000000\" stroke=\"#000000\" points=\"128.0109,-46.7727 128.5578,-36.192 121.532,-44.1222 128.0109,-46.7727\"/>\n</g>\n<!-- 2333 -->\n<g id=\"node8\" class=\"node\">\n<title>2333</title>\n<path fill=\"#c0c0c0\" stroke=\"#000000\" d=\"M297,-36C297,-36 267,-36 267,-36 261,-36 255,-30 255,-24 255,-24 255,-12 255,-12 255,-6 261,0 267,0 267,0 297,0 297,0 303,0 309,-6 309,-12 309,-12 309,-24 309,-24 309,-30 303,-36 297,-36\"/>\n<text text-anchor=\"middle\" x=\"282\" y=\"-14.3\" font-family=\"Helvetica,sans-Serif\" font-size=\"14.00\" fill=\"#000000\">(...)</text>\n</g>\n<!-- 2332&#45;&gt;2333 -->\n<g id=\"edge7\" class=\"edge\">\n<title>2332&#45;&gt;2333</title>\n<path fill=\"none\" stroke=\"#000000\" d=\"M304.0815,-71.9769C300.4977,-63.2167 296.6862,-53.8995 293.2564,-45.5157\"/>\n<polygon fill=\"#000000\" stroke=\"#000000\" points=\"296.468,-44.1222 289.4422,-36.192 289.9891,-46.7727 296.468,-44.1222\"/>\n</g>\n<!-- 16452 -->\n<g id=\"node9\" class=\"node\">\n<title>16452</title>\n<path fill=\"#c0c0c0\" stroke=\"#000000\" d=\"M369,-36C369,-36 339,-36 339,-36 333,-36 327,-30 327,-24 327,-24 327,-12 327,-12 327,-6 333,0 339,0 339,0 369,0 369,0 375,0 381,-6 381,-12 381,-12 381,-24 381,-24 381,-30 375,-36 369,-36\"/>\n<text text-anchor=\"middle\" x=\"354\" y=\"-14.3\" font-family=\"Helvetica,sans-Serif\" font-size=\"14.00\" fill=\"#000000\">(...)</text>\n</g>\n<!-- 2332&#45;&gt;16452 -->\n<g id=\"edge8\" class=\"edge\">\n<title>2332&#45;&gt;16452</title>\n<path fill=\"none\" stroke=\"#000000\" d=\"M331.9185,-71.9769C335.5023,-63.2167 339.3138,-53.8995 342.7436,-45.5157\"/>\n<polygon fill=\"#000000\" stroke=\"#000000\" points=\"346.0109,-46.7727 346.5578,-36.192 339.532,-44.1222 346.0109,-46.7727\"/>\n</g>\n<!-- 17114 -->\n<g id=\"node11\" class=\"node\">\n<title>17114</title>\n<path fill=\"#c9aaf4\" stroke=\"#000000\" d=\"M624,-140C624,-140 448,-140 448,-140 442,-140 436,-134 436,-128 436,-128 436,-84 436,-84 436,-78 442,-72 448,-72 448,-72 624,-72 624,-72 630,-72 636,-78 636,-84 636,-84 636,-128 636,-128 636,-134 630,-140 624,-140\"/>\n<text text-anchor=\"middle\" x=\"536\" y=\"-124.8\" font-family=\"Helvetica,sans-Serif\" font-size=\"14.00\" fill=\"#000000\">population &lt;= 19.0</text>\n<text text-anchor=\"middle\" x=\"536\" y=\"-109.8\" font-family=\"Helvetica,sans-Serif\" font-size=\"14.00\" fill=\"#000000\">samples = 2.4%</text>\n<text text-anchor=\"middle\" x=\"536\" y=\"-94.8\" font-family=\"Helvetica,sans-Serif\" font-size=\"14.00\" fill=\"#000000\">value = [0.288, 0.119, 0.593]</text>\n<text text-anchor=\"middle\" x=\"536\" y=\"-79.8\" font-family=\"Helvetica,sans-Serif\" font-size=\"14.00\" fill=\"#000000\">class = non functional</text>\n</g>\n<!-- 17113&#45;&gt;17114 -->\n<g id=\"edge10\" class=\"edge\">\n<title>17113&#45;&gt;17114</title>\n<path fill=\"none\" stroke=\"#000000\" d=\"M609.3093,-175.9465C599.7109,-166.7884 589.2253,-156.7838 579.2634,-147.2788\"/>\n<polygon fill=\"#000000\" stroke=\"#000000\" points=\"581.4221,-144.5009 571.7709,-140.13 576.5898,-149.5655 581.4221,-144.5009\"/>\n</g>\n<!-- 17579 -->\n<g id=\"node14\" class=\"node\">\n<title>17579</title>\n<path fill=\"#965ae9\" stroke=\"#000000\" d=\"M842,-140C842,-140 666,-140 666,-140 660,-140 654,-134 654,-128 654,-128 654,-84 654,-84 654,-78 660,-72 666,-72 666,-72 842,-72 842,-72 848,-72 854,-78 854,-84 854,-84 854,-128 854,-128 854,-134 848,-140 842,-140\"/>\n<text text-anchor=\"middle\" x=\"754\" y=\"-124.8\" font-family=\"Helvetica,sans-Serif\" font-size=\"14.00\" fill=\"#000000\">water_quality_milky &lt;= 0.5</text>\n<text text-anchor=\"middle\" x=\"754\" y=\"-109.8\" font-family=\"Helvetica,sans-Serif\" font-size=\"14.00\" fill=\"#000000\">samples = 6.1%</text>\n<text text-anchor=\"middle\" x=\"754\" y=\"-94.8\" font-family=\"Helvetica,sans-Serif\" font-size=\"14.00\" fill=\"#000000\">value = [0.113, 0.033, 0.854]</text>\n<text text-anchor=\"middle\" x=\"754\" y=\"-79.8\" font-family=\"Helvetica,sans-Serif\" font-size=\"14.00\" fill=\"#000000\">class = non functional</text>\n</g>\n<!-- 17113&#45;&gt;17579 -->\n<g id=\"edge13\" class=\"edge\">\n<title>17113&#45;&gt;17579</title>\n<path fill=\"none\" stroke=\"#000000\" d=\"M680.6907,-175.9465C690.2891,-166.7884 700.7747,-156.7838 710.7366,-147.2788\"/>\n<polygon fill=\"#000000\" stroke=\"#000000\" points=\"713.4102,-149.5655 718.2291,-140.13 708.5779,-144.5009 713.4102,-149.5655\"/>\n</g>\n<!-- 17115 -->\n<g id=\"node12\" class=\"node\">\n<title>17115</title>\n<path fill=\"#c0c0c0\" stroke=\"#000000\" d=\"M515,-36C515,-36 485,-36 485,-36 479,-36 473,-30 473,-24 473,-24 473,-12 473,-12 473,-6 479,0 485,0 485,0 515,0 515,0 521,0 527,-6 527,-12 527,-12 527,-24 527,-24 527,-30 521,-36 515,-36\"/>\n<text text-anchor=\"middle\" x=\"500\" y=\"-14.3\" font-family=\"Helvetica,sans-Serif\" font-size=\"14.00\" fill=\"#000000\">(...)</text>\n</g>\n<!-- 17114&#45;&gt;17115 -->\n<g id=\"edge11\" class=\"edge\">\n<title>17114&#45;&gt;17115</title>\n<path fill=\"none\" stroke=\"#000000\" d=\"M522.0815,-71.9769C518.4977,-63.2167 514.6862,-53.8995 511.2564,-45.5157\"/>\n<polygon fill=\"#000000\" stroke=\"#000000\" points=\"514.468,-44.1222 507.4422,-36.192 507.9891,-46.7727 514.468,-44.1222\"/>\n</g>\n<!-- 17162 -->\n<g id=\"node13\" class=\"node\">\n<title>17162</title>\n<path fill=\"#c0c0c0\" stroke=\"#000000\" d=\"M587,-36C587,-36 557,-36 557,-36 551,-36 545,-30 545,-24 545,-24 545,-12 545,-12 545,-6 551,0 557,0 557,0 587,0 587,0 593,0 599,-6 599,-12 599,-12 599,-24 599,-24 599,-30 593,-36 587,-36\"/>\n<text text-anchor=\"middle\" x=\"572\" y=\"-14.3\" font-family=\"Helvetica,sans-Serif\" font-size=\"14.00\" fill=\"#000000\">(...)</text>\n</g>\n<!-- 17114&#45;&gt;17162 -->\n<g id=\"edge12\" class=\"edge\">\n<title>17114&#45;&gt;17162</title>\n<path fill=\"none\" stroke=\"#000000\" d=\"M549.9185,-71.9769C553.5023,-63.2167 557.3138,-53.8995 560.7436,-45.5157\"/>\n<polygon fill=\"#000000\" stroke=\"#000000\" points=\"564.0109,-46.7727 564.5578,-36.192 557.532,-44.1222 564.0109,-46.7727\"/>\n</g>\n<!-- 17580 -->\n<g id=\"node15\" class=\"node\">\n<title>17580</title>\n<path fill=\"#c0c0c0\" stroke=\"#000000\" d=\"M733,-36C733,-36 703,-36 703,-36 697,-36 691,-30 691,-24 691,-24 691,-12 691,-12 691,-6 697,0 703,0 703,0 733,0 733,0 739,0 745,-6 745,-12 745,-12 745,-24 745,-24 745,-30 739,-36 733,-36\"/>\n<text text-anchor=\"middle\" x=\"718\" y=\"-14.3\" font-family=\"Helvetica,sans-Serif\" font-size=\"14.00\" fill=\"#000000\">(...)</text>\n</g>\n<!-- 17579&#45;&gt;17580 -->\n<g id=\"edge14\" class=\"edge\">\n<title>17579&#45;&gt;17580</title>\n<path fill=\"none\" stroke=\"#000000\" d=\"M740.0815,-71.9769C736.4977,-63.2167 732.6862,-53.8995 729.2564,-45.5157\"/>\n<polygon fill=\"#000000\" stroke=\"#000000\" points=\"732.468,-44.1222 725.4422,-36.192 725.9891,-46.7727 732.468,-44.1222\"/>\n</g>\n<!-- 18173 -->\n<g id=\"node16\" class=\"node\">\n<title>18173</title>\n<path fill=\"#c0c0c0\" stroke=\"#000000\" d=\"M805,-36C805,-36 775,-36 775,-36 769,-36 763,-30 763,-24 763,-24 763,-12 763,-12 763,-6 769,0 775,0 775,0 805,0 805,0 811,0 817,-6 817,-12 817,-12 817,-24 817,-24 817,-30 811,-36 805,-36\"/>\n<text text-anchor=\"middle\" x=\"790\" y=\"-14.3\" font-family=\"Helvetica,sans-Serif\" font-size=\"14.00\" fill=\"#000000\">(...)</text>\n</g>\n<!-- 17579&#45;&gt;18173 -->\n<g id=\"edge15\" class=\"edge\">\n<title>17579&#45;&gt;18173</title>\n<path fill=\"none\" stroke=\"#000000\" d=\"M767.9185,-71.9769C771.5023,-63.2167 775.3138,-53.8995 778.7436,-45.5157\"/>\n<polygon fill=\"#000000\" stroke=\"#000000\" points=\"782.0109,-46.7727 782.5578,-36.192 775.532,-44.1222 782.0109,-46.7727\"/>\n</g>\n<!-- 18295 -->\n<g id=\"node18\" class=\"node\">\n<title>18295</title>\n<path fill=\"#843ee6\" stroke=\"#000000\" d=\"M1194.5,-244C1194.5,-244 1017.5,-244 1017.5,-244 1011.5,-244 1005.5,-238 1005.5,-232 1005.5,-232 1005.5,-188 1005.5,-188 1005.5,-182 1011.5,-176 1017.5,-176 1017.5,-176 1194.5,-176 1194.5,-176 1200.5,-176 1206.5,-182 1206.5,-188 1206.5,-188 1206.5,-232 1206.5,-232 1206.5,-238 1200.5,-244 1194.5,-244\"/>\n<text text-anchor=\"middle\" x=\"1106\" y=\"-228.8\" font-family=\"Helvetica,sans-Serif\" font-size=\"14.00\" fill=\"#000000\">construction_year &lt;= 2011.5</text>\n<text text-anchor=\"middle\" x=\"1106\" y=\"-213.8\" font-family=\"Helvetica,sans-Serif\" font-size=\"14.00\" fill=\"#000000\">samples = 9.7%</text>\n<text text-anchor=\"middle\" x=\"1106\" y=\"-198.8\" font-family=\"Helvetica,sans-Serif\" font-size=\"14.00\" fill=\"#000000\">value = [0.019, 0.006, 0.974]</text>\n<text text-anchor=\"middle\" x=\"1106\" y=\"-183.8\" font-family=\"Helvetica,sans-Serif\" font-size=\"14.00\" fill=\"#000000\">class = non functional</text>\n</g>\n<!-- 18294&#45;&gt;18295 -->\n<g id=\"edge17\" class=\"edge\">\n<title>18294&#45;&gt;18295</title>\n<path fill=\"none\" stroke=\"#000000\" d=\"M1106,-279.9465C1106,-271.776 1106,-262.9318 1106,-254.3697\"/>\n<polygon fill=\"#000000\" stroke=\"#000000\" points=\"1109.5001,-254.13 1106,-244.13 1102.5001,-254.13 1109.5001,-254.13\"/>\n</g>\n<!-- 18630 -->\n<g id=\"node25\" class=\"node\">\n<title>18630</title>\n<path fill=\"#9558e9\" stroke=\"#000000\" d=\"M1522,-244C1522,-244 1346,-244 1346,-244 1340,-244 1334,-238 1334,-232 1334,-232 1334,-188 1334,-188 1334,-182 1340,-176 1346,-176 1346,-176 1522,-176 1522,-176 1528,-176 1534,-182 1534,-188 1534,-188 1534,-232 1534,-232 1534,-238 1528,-244 1522,-244\"/>\n<text text-anchor=\"middle\" x=\"1434\" y=\"-228.8\" font-family=\"Helvetica,sans-Serif\" font-size=\"14.00\" fill=\"#000000\">longitude &lt;= 32.736</text>\n<text text-anchor=\"middle\" x=\"1434\" y=\"-213.8\" font-family=\"Helvetica,sans-Serif\" font-size=\"14.00\" fill=\"#000000\">samples = 0.6%</text>\n<text text-anchor=\"middle\" x=\"1434\" y=\"-198.8\" font-family=\"Helvetica,sans-Serif\" font-size=\"14.00\" fill=\"#000000\">value = [0.132, 0.003, 0.864]</text>\n<text text-anchor=\"middle\" x=\"1434\" y=\"-183.8\" font-family=\"Helvetica,sans-Serif\" font-size=\"14.00\" fill=\"#000000\">class = non functional</text>\n</g>\n<!-- 18294&#45;&gt;18630 -->\n<g id=\"edge24\" class=\"edge\">\n<title>18294&#45;&gt;18630</title>\n<path fill=\"none\" stroke=\"#000000\" d=\"M1206.1931,-282.2315C1243.5338,-270.3917 1286.1029,-256.8942 1324.2567,-244.7967\"/>\n<polygon fill=\"#000000\" stroke=\"#000000\" points=\"1325.3813,-248.1119 1333.8558,-241.753 1323.2656,-241.4392 1325.3813,-248.1119\"/>\n</g>\n<!-- 18296 -->\n<g id=\"node19\" class=\"node\">\n<title>18296</title>\n<path fill=\"#843ee6\" stroke=\"#000000\" d=\"M1110,-140C1110,-140 884,-140 884,-140 878,-140 872,-134 872,-128 872,-128 872,-84 872,-84 872,-78 878,-72 884,-72 884,-72 1110,-72 1110,-72 1116,-72 1122,-78 1122,-84 1122,-84 1122,-128 1122,-128 1122,-134 1116,-140 1110,-140\"/>\n<text text-anchor=\"middle\" x=\"997\" y=\"-124.8\" font-family=\"Helvetica,sans-Serif\" font-size=\"14.00\" fill=\"#000000\">scheme_management_WUG &lt;= 0.5</text>\n<text text-anchor=\"middle\" x=\"997\" y=\"-109.8\" font-family=\"Helvetica,sans-Serif\" font-size=\"14.00\" fill=\"#000000\">samples = 9.6%</text>\n<text text-anchor=\"middle\" x=\"997\" y=\"-94.8\" font-family=\"Helvetica,sans-Serif\" font-size=\"14.00\" fill=\"#000000\">value = [0.017, 0.007, 0.977]</text>\n<text text-anchor=\"middle\" x=\"997\" y=\"-79.8\" font-family=\"Helvetica,sans-Serif\" font-size=\"14.00\" fill=\"#000000\">class = non functional</text>\n</g>\n<!-- 18295&#45;&gt;18296 -->\n<g id=\"edge18\" class=\"edge\">\n<title>18295&#45;&gt;18296</title>\n<path fill=\"none\" stroke=\"#000000\" d=\"M1070.3093,-175.9465C1060.7109,-166.7884 1050.2253,-156.7838 1040.2634,-147.2788\"/>\n<polygon fill=\"#000000\" stroke=\"#000000\" points=\"1042.4221,-144.5009 1032.7709,-140.13 1037.5898,-149.5655 1042.4221,-144.5009\"/>\n</g>\n<!-- 18619 -->\n<g id=\"node22\" class=\"node\">\n<title>18619</title>\n<path fill=\"#a26dec\" stroke=\"#000000\" d=\"M1312,-140C1312,-140 1152,-140 1152,-140 1146,-140 1140,-134 1140,-128 1140,-128 1140,-84 1140,-84 1140,-78 1146,-72 1152,-72 1152,-72 1312,-72 1312,-72 1318,-72 1324,-78 1324,-84 1324,-84 1324,-128 1324,-128 1324,-134 1318,-140 1312,-140\"/>\n<text text-anchor=\"middle\" x=\"1232\" y=\"-124.8\" font-family=\"Helvetica,sans-Serif\" font-size=\"14.00\" fill=\"#000000\">latitude &lt;= &#45;10.752</text>\n<text text-anchor=\"middle\" x=\"1232\" y=\"-109.8\" font-family=\"Helvetica,sans-Serif\" font-size=\"14.00\" fill=\"#000000\">samples = 0.1%</text>\n<text text-anchor=\"middle\" x=\"1232\" y=\"-94.8\" font-family=\"Helvetica,sans-Serif\" font-size=\"14.00\" fill=\"#000000\">value = [0.208, 0.0, 0.792]</text>\n<text text-anchor=\"middle\" x=\"1232\" y=\"-79.8\" font-family=\"Helvetica,sans-Serif\" font-size=\"14.00\" fill=\"#000000\">class = non functional</text>\n</g>\n<!-- 18295&#45;&gt;18619 -->\n<g id=\"edge21\" class=\"edge\">\n<title>18295&#45;&gt;18619</title>\n<path fill=\"none\" stroke=\"#000000\" d=\"M1147.2571,-175.9465C1158.5701,-166.6088 1170.9492,-156.3911 1182.6658,-146.7203\"/>\n<polygon fill=\"#000000\" stroke=\"#000000\" points=\"1185.1659,-149.195 1190.6502,-140.13 1180.71,-143.7964 1185.1659,-149.195\"/>\n</g>\n<!-- 18297 -->\n<g id=\"node20\" class=\"node\">\n<title>18297</title>\n<path fill=\"#c0c0c0\" stroke=\"#000000\" d=\"M976,-36C976,-36 946,-36 946,-36 940,-36 934,-30 934,-24 934,-24 934,-12 934,-12 934,-6 940,0 946,0 946,0 976,0 976,0 982,0 988,-6 988,-12 988,-12 988,-24 988,-24 988,-30 982,-36 976,-36\"/>\n<text text-anchor=\"middle\" x=\"961\" y=\"-14.3\" font-family=\"Helvetica,sans-Serif\" font-size=\"14.00\" fill=\"#000000\">(...)</text>\n</g>\n<!-- 18296&#45;&gt;18297 -->\n<g id=\"edge19\" class=\"edge\">\n<title>18296&#45;&gt;18297</title>\n<path fill=\"none\" stroke=\"#000000\" d=\"M983.0815,-71.9769C979.4977,-63.2167 975.6862,-53.8995 972.2564,-45.5157\"/>\n<polygon fill=\"#000000\" stroke=\"#000000\" points=\"975.468,-44.1222 968.4422,-36.192 968.9891,-46.7727 975.468,-44.1222\"/>\n</g>\n<!-- 18564 -->\n<g id=\"node21\" class=\"node\">\n<title>18564</title>\n<path fill=\"#c0c0c0\" stroke=\"#000000\" d=\"M1048,-36C1048,-36 1018,-36 1018,-36 1012,-36 1006,-30 1006,-24 1006,-24 1006,-12 1006,-12 1006,-6 1012,0 1018,0 1018,0 1048,0 1048,0 1054,0 1060,-6 1060,-12 1060,-12 1060,-24 1060,-24 1060,-30 1054,-36 1048,-36\"/>\n<text text-anchor=\"middle\" x=\"1033\" y=\"-14.3\" font-family=\"Helvetica,sans-Serif\" font-size=\"14.00\" fill=\"#000000\">(...)</text>\n</g>\n<!-- 18296&#45;&gt;18564 -->\n<g id=\"edge20\" class=\"edge\">\n<title>18296&#45;&gt;18564</title>\n<path fill=\"none\" stroke=\"#000000\" d=\"M1010.9185,-71.9769C1014.5023,-63.2167 1018.3138,-53.8995 1021.7436,-45.5157\"/>\n<polygon fill=\"#000000\" stroke=\"#000000\" points=\"1025.0109,-46.7727 1025.5578,-36.192 1018.532,-44.1222 1025.0109,-46.7727\"/>\n</g>\n<!-- 18620 -->\n<g id=\"node23\" class=\"node\">\n<title>18620</title>\n<path fill=\"#c0c0c0\" stroke=\"#000000\" d=\"M1204,-36C1204,-36 1174,-36 1174,-36 1168,-36 1162,-30 1162,-24 1162,-24 1162,-12 1162,-12 1162,-6 1168,0 1174,0 1174,0 1204,0 1204,0 1210,0 1216,-6 1216,-12 1216,-12 1216,-24 1216,-24 1216,-30 1210,-36 1204,-36\"/>\n<text text-anchor=\"middle\" x=\"1189\" y=\"-14.3\" font-family=\"Helvetica,sans-Serif\" font-size=\"14.00\" fill=\"#000000\">(...)</text>\n</g>\n<!-- 18619&#45;&gt;18620 -->\n<g id=\"edge22\" class=\"edge\">\n<title>18619&#45;&gt;18620</title>\n<path fill=\"none\" stroke=\"#000000\" d=\"M1215.3751,-71.9769C1211.048,-63.1215 1206.4428,-53.6969 1202.3118,-45.2427\"/>\n<polygon fill=\"#000000\" stroke=\"#000000\" points=\"1205.4242,-43.6401 1197.8892,-36.192 1199.1349,-46.7133 1205.4242,-43.6401\"/>\n</g>\n<!-- 18623 -->\n<g id=\"node24\" class=\"node\">\n<title>18623</title>\n<path fill=\"#c0c0c0\" stroke=\"#000000\" d=\"M1276,-36C1276,-36 1246,-36 1246,-36 1240,-36 1234,-30 1234,-24 1234,-24 1234,-12 1234,-12 1234,-6 1240,0 1246,0 1246,0 1276,0 1276,0 1282,0 1288,-6 1288,-12 1288,-12 1288,-24 1288,-24 1288,-30 1282,-36 1276,-36\"/>\n<text text-anchor=\"middle\" x=\"1261\" y=\"-14.3\" font-family=\"Helvetica,sans-Serif\" font-size=\"14.00\" fill=\"#000000\">(...)</text>\n</g>\n<!-- 18619&#45;&gt;18623 -->\n<g id=\"edge23\" class=\"edge\">\n<title>18619&#45;&gt;18623</title>\n<path fill=\"none\" stroke=\"#000000\" d=\"M1243.2122,-71.9769C1246.0677,-63.3119 1249.1028,-54.102 1251.8421,-45.7894\"/>\n<polygon fill=\"#000000\" stroke=\"#000000\" points=\"1255.1991,-46.785 1255.0049,-36.192 1248.5508,-44.594 1255.1991,-46.785\"/>\n</g>\n<!-- 18631 -->\n<g id=\"node26\" class=\"node\">\n<title>18631</title>\n<path fill=\"#fbe9dd\" stroke=\"#000000\" d=\"M1514,-140C1514,-140 1354,-140 1354,-140 1348,-140 1342,-134 1342,-128 1342,-128 1342,-84 1342,-84 1342,-78 1348,-72 1354,-72 1354,-72 1514,-72 1514,-72 1520,-72 1526,-78 1526,-84 1526,-84 1526,-128 1526,-128 1526,-134 1520,-140 1514,-140\"/>\n<text text-anchor=\"middle\" x=\"1434\" y=\"-124.8\" font-family=\"Helvetica,sans-Serif\" font-size=\"14.00\" fill=\"#000000\">longitude &lt;= 32.133</text>\n<text text-anchor=\"middle\" x=\"1434\" y=\"-109.8\" font-family=\"Helvetica,sans-Serif\" font-size=\"14.00\" fill=\"#000000\">samples = 0.1%</text>\n<text text-anchor=\"middle\" x=\"1434\" y=\"-94.8\" font-family=\"Helvetica,sans-Serif\" font-size=\"14.00\" fill=\"#000000\">value = [0.547, 0.0, 0.453]</text>\n<text text-anchor=\"middle\" x=\"1434\" y=\"-79.8\" font-family=\"Helvetica,sans-Serif\" font-size=\"14.00\" fill=\"#000000\">class = functional</text>\n</g>\n<!-- 18630&#45;&gt;18631 -->\n<g id=\"edge25\" class=\"edge\">\n<title>18630&#45;&gt;18631</title>\n<path fill=\"none\" stroke=\"#000000\" d=\"M1434,-175.9465C1434,-167.776 1434,-158.9318 1434,-150.3697\"/>\n<polygon fill=\"#000000\" stroke=\"#000000\" points=\"1437.5001,-150.13 1434,-140.13 1430.5001,-150.13 1437.5001,-150.13\"/>\n</g>\n<!-- 18670 -->\n<g id=\"node29\" class=\"node\">\n<title>18670</title>\n<path fill=\"#8743e6\" stroke=\"#000000\" d=\"M1812,-140C1812,-140 1556,-140 1556,-140 1550,-140 1544,-134 1544,-128 1544,-128 1544,-84 1544,-84 1544,-78 1550,-72 1556,-72 1556,-72 1812,-72 1812,-72 1818,-72 1824,-78 1824,-84 1824,-84 1824,-128 1824,-128 1824,-134 1818,-140 1812,-140\"/>\n<text text-anchor=\"middle\" x=\"1684\" y=\"-124.8\" font-family=\"Helvetica,sans-Serif\" font-size=\"14.00\" fill=\"#000000\">source_type_rainwater harvesting &lt;= 0.5</text>\n<text text-anchor=\"middle\" x=\"1684\" y=\"-109.8\" font-family=\"Helvetica,sans-Serif\" font-size=\"14.00\" fill=\"#000000\">samples = 0.5%</text>\n<text text-anchor=\"middle\" x=\"1684\" y=\"-94.8\" font-family=\"Helvetica,sans-Serif\" font-size=\"14.00\" fill=\"#000000\">value = [0.044, 0.004, 0.952]</text>\n<text text-anchor=\"middle\" x=\"1684\" y=\"-79.8\" font-family=\"Helvetica,sans-Serif\" font-size=\"14.00\" fill=\"#000000\">class = non functional</text>\n</g>\n<!-- 18630&#45;&gt;18670 -->\n<g id=\"edge28\" class=\"edge\">\n<title>18630&#45;&gt;18670</title>\n<path fill=\"none\" stroke=\"#000000\" d=\"M1515.8594,-175.9465C1540.3561,-165.7559 1567.3723,-154.5171 1592.4498,-144.0849\"/>\n<polygon fill=\"#000000\" stroke=\"#000000\" points=\"1594.0681,-147.2025 1601.9567,-140.13 1591.3794,-140.7394 1594.0681,-147.2025\"/>\n</g>\n<!-- 18632 -->\n<g id=\"node27\" class=\"node\">\n<title>18632</title>\n<path fill=\"#c0c0c0\" stroke=\"#000000\" d=\"M1413,-36C1413,-36 1383,-36 1383,-36 1377,-36 1371,-30 1371,-24 1371,-24 1371,-12 1371,-12 1371,-6 1377,0 1383,0 1383,0 1413,0 1413,0 1419,0 1425,-6 1425,-12 1425,-12 1425,-24 1425,-24 1425,-30 1419,-36 1413,-36\"/>\n<text text-anchor=\"middle\" x=\"1398\" y=\"-14.3\" font-family=\"Helvetica,sans-Serif\" font-size=\"14.00\" fill=\"#000000\">(...)</text>\n</g>\n<!-- 18631&#45;&gt;18632 -->\n<g id=\"edge26\" class=\"edge\">\n<title>18631&#45;&gt;18632</title>\n<path fill=\"none\" stroke=\"#000000\" d=\"M1420.0815,-71.9769C1416.4977,-63.2167 1412.6862,-53.8995 1409.2564,-45.5157\"/>\n<polygon fill=\"#000000\" stroke=\"#000000\" points=\"1412.468,-44.1222 1405.4422,-36.192 1405.9891,-46.7727 1412.468,-44.1222\"/>\n</g>\n<!-- 18633 -->\n<g id=\"node28\" class=\"node\">\n<title>18633</title>\n<path fill=\"#c0c0c0\" stroke=\"#000000\" d=\"M1485,-36C1485,-36 1455,-36 1455,-36 1449,-36 1443,-30 1443,-24 1443,-24 1443,-12 1443,-12 1443,-6 1449,0 1455,0 1455,0 1485,0 1485,0 1491,0 1497,-6 1497,-12 1497,-12 1497,-24 1497,-24 1497,-30 1491,-36 1485,-36\"/>\n<text text-anchor=\"middle\" x=\"1470\" y=\"-14.3\" font-family=\"Helvetica,sans-Serif\" font-size=\"14.00\" fill=\"#000000\">(...)</text>\n</g>\n<!-- 18631&#45;&gt;18633 -->\n<g id=\"edge27\" class=\"edge\">\n<title>18631&#45;&gt;18633</title>\n<path fill=\"none\" stroke=\"#000000\" d=\"M1447.9185,-71.9769C1451.5023,-63.2167 1455.3138,-53.8995 1458.7436,-45.5157\"/>\n<polygon fill=\"#000000\" stroke=\"#000000\" points=\"1462.0109,-46.7727 1462.5578,-36.192 1455.532,-44.1222 1462.0109,-46.7727\"/>\n</g>\n<!-- 18671 -->\n<g id=\"node30\" class=\"node\">\n<title>18671</title>\n<path fill=\"#c0c0c0\" stroke=\"#000000\" d=\"M1663,-36C1663,-36 1633,-36 1633,-36 1627,-36 1621,-30 1621,-24 1621,-24 1621,-12 1621,-12 1621,-6 1627,0 1633,0 1633,0 1663,0 1663,0 1669,0 1675,-6 1675,-12 1675,-12 1675,-24 1675,-24 1675,-30 1669,-36 1663,-36\"/>\n<text text-anchor=\"middle\" x=\"1648\" y=\"-14.3\" font-family=\"Helvetica,sans-Serif\" font-size=\"14.00\" fill=\"#000000\">(...)</text>\n</g>\n<!-- 18670&#45;&gt;18671 -->\n<g id=\"edge29\" class=\"edge\">\n<title>18670&#45;&gt;18671</title>\n<path fill=\"none\" stroke=\"#000000\" d=\"M1670.0815,-71.9769C1666.4977,-63.2167 1662.6862,-53.8995 1659.2564,-45.5157\"/>\n<polygon fill=\"#000000\" stroke=\"#000000\" points=\"1662.468,-44.1222 1655.4422,-36.192 1655.9891,-46.7727 1662.468,-44.1222\"/>\n</g>\n<!-- 18704 -->\n<g id=\"node31\" class=\"node\">\n<title>18704</title>\n<path fill=\"#c0c0c0\" stroke=\"#000000\" d=\"M1735,-36C1735,-36 1705,-36 1705,-36 1699,-36 1693,-30 1693,-24 1693,-24 1693,-12 1693,-12 1693,-6 1699,0 1705,0 1705,0 1735,0 1735,0 1741,0 1747,-6 1747,-12 1747,-12 1747,-24 1747,-24 1747,-30 1741,-36 1735,-36\"/>\n<text text-anchor=\"middle\" x=\"1720\" y=\"-14.3\" font-family=\"Helvetica,sans-Serif\" font-size=\"14.00\" fill=\"#000000\">(...)</text>\n</g>\n<!-- 18670&#45;&gt;18704 -->\n<g id=\"edge30\" class=\"edge\">\n<title>18670&#45;&gt;18704</title>\n<path fill=\"none\" stroke=\"#000000\" d=\"M1697.9185,-71.9769C1701.5023,-63.2167 1705.3138,-53.8995 1708.7436,-45.5157\"/>\n<polygon fill=\"#000000\" stroke=\"#000000\" points=\"1712.0109,-46.7727 1712.5578,-36.192 1705.532,-44.1222 1712.0109,-46.7727\"/>\n</g>\n</g>\n</svg>\n"
          },
          "metadata": {
            "tags": []
          }
        }
      ]
    },
    {
      "cell_type": "code",
      "metadata": {
        "id": "sHvTzEPkTTQ9",
        "colab_type": "code",
        "colab": {
          "base_uri": "https://localhost:8080/",
          "height": 51
        },
        "outputId": "d989795c-ffd4-4aad-bd06-73e0a5faa05d"
      },
      "source": [
        "# Increase \"minimum node size\" / min_samples_leaf, to reduce model complexity,\n",
        "# This happens to improve validation accuracy here.\n",
        "\n",
        "pipeline = make_pipeline(\n",
        "    ce.OneHotEncoder(use_cat_names=True), \n",
        "    SimpleImputer(), \n",
        "    DecisionTreeClassifier(min_samples_leaf=8, random_state=42)\n",
        ")\n",
        "\n",
        "pipeline.fit(X_train, y_train)\n",
        "print('Train Accuracy', pipeline.score(X_train, y_train))\n",
        "print('Validation Accuracy', pipeline.score(X_val, y_val)) "
      ],
      "execution_count": 131,
      "outputs": [
        {
          "output_type": "stream",
          "text": [
            "Train Accuracy 0.8472011784511785\n",
            "Validation Accuracy 0.7765993265993266\n"
          ],
          "name": "stdout"
        }
      ]
    },
    {
      "cell_type": "code",
      "metadata": {
        "id": "ChrdtzzzX4qA",
        "colab_type": "code",
        "colab": {
          "base_uri": "https://localhost:8080/",
          "height": 51
        },
        "outputId": "e725a866-3e10-4cb9-8870-0f51764b471f"
      },
      "source": [
        "y_pred = pipeline.predict(X_test)\n",
        "y_pred"
      ],
      "execution_count": 94,
      "outputs": [
        {
          "output_type": "execute_result",
          "data": {
            "text/plain": [
              "array(['functional', 'functional', 'functional', ..., 'functional',\n",
              "       'functional', 'non functional'], dtype=object)"
            ]
          },
          "metadata": {
            "tags": []
          },
          "execution_count": 94
        }
      ]
    },
    {
      "cell_type": "code",
      "metadata": {
        "id": "C5HMjxhGYd_S",
        "colab_type": "code",
        "colab": {}
      },
      "source": [
        "# Formatting submission\n",
        "submission = sample_submission.copy()\n",
        "submission['status_group'] = y_pred\n",
        "submission.to_csv('submission-AndrewLowe4.csv', index = False)"
      ],
      "execution_count": 0,
      "outputs": []
    },
    {
      "cell_type": "markdown",
      "metadata": {
        "id": "IDrzQTOWTs9x",
        "colab_type": "text"
      },
      "source": [
        "- `amount_tsh` : Total static head (amount water available to waterpoint)\n",
        "- `date_recorded` : The date the row was entered\n",
        "- `funder` : Who funded the well\n",
        "- `gps_height` : Altitude of the well\n",
        "- `installer` : Organization that installed the well\n",
        "- `longitude` : GPS coordinate\n",
        "- `latitude` : GPS coordinate\n",
        "- `wpt_name` : Name of the waterpoint if there is one\n",
        "- `num_private` :  \n",
        "- `basin` : Geographic water basin\n",
        "- `subvillage` : Geographic location\n",
        "- `region` : Geographic location\n",
        "- `region_code` : Geographic location (coded)\n",
        "- `district_code` : Geographic location (coded)\n",
        "- `lga` : Geographic location\n",
        "- `ward` : Geographic location\n",
        "- `population` : Population around the well\n",
        "- `public_meeting` : True/False\n",
        "- `recorded_by` : Group entering this row of data\n",
        "- `scheme_management` : Who operates the waterpoint\n",
        "- `scheme_name` : Who operates the waterpoint\n",
        "- `permit` : If the waterpoint is permitted\n",
        "- `construction_year` : Year the waterpoint was constructed\n",
        "- `extraction_type` : The kind of extraction the waterpoint uses\n",
        "- `extraction_type_group` : The kind of extraction the waterpoint uses\n",
        "- `extraction_type_class` : The kind of extraction the waterpoint uses\n",
        "- `management` : How the waterpoint is managed\n",
        "- `management_group` : How the waterpoint is managed\n",
        "- `payment` : What the water costs\n",
        "- `payment_type` : What the water costs\n",
        "- `water_quality` : The quality of the water\n",
        "- `quality_group` : The quality of the water\n",
        "- `quantity` : The quantity of water\n",
        "- `quantity_group` : The quantity of water\n",
        "- `source` : The source of the water\n",
        "- `source_type` : The source of the water\n",
        "- `source_class` : The source of the water\n",
        "- `waterpoint_type` : The kind of waterpoint\n",
        "- `waterpoint_type_group` : The kind of waterpoint"
      ]
    }
  ]
}